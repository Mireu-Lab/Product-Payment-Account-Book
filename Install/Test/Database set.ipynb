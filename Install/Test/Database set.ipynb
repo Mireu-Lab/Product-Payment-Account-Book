{
 "cells": [
  {
   "cell_type": "code",
   "execution_count": null,
   "id": "827de7e6-755b-4688-9e2a-f13b25bcf7bb",
   "metadata": {},
   "outputs": [],
   "source": [
    "import pymysql"
   ]
  },
  {
   "cell_type": "code",
   "execution_count": null,
   "id": "7da37261-6ab3-4152-9aa1-7fcab5c56045",
   "metadata": {
    "tags": []
   },
   "outputs": [],
   "source": [
    "setup_db = pymysql.connect(\n",
    "    user='root', \n",
    "    passwd='mireu041214', \n",
    "    host='192.168.0.2',\n",
    "    port=3305,\n",
    "    charset='utf8'\n",
    ")"
   ]
  },
  {
   "cell_type": "code",
   "execution_count": null,
   "id": "1edd7783-3bc2-4d6f-98f4-39d01ccd5fa1",
   "metadata": {},
   "outputs": [],
   "source": [
    "cursor = setup_db.cursor(pymysql.cursors.DictCursor)"
   ]
  },
  {
   "cell_type": "code",
   "execution_count": null,
   "id": "d876cf40-2ffb-482a-8374-ccae88b8a4fd",
   "metadata": {},
   "outputs": [],
   "source": [
    "sql = \"CREATE DATABASE hepatica;\""
   ]
  },
  {
   "cell_type": "code",
   "execution_count": null,
   "id": "dfc21efe-7151-44a1-9645-684b10beb008",
   "metadata": {},
   "outputs": [],
   "source": [
    "cursor.execute(sql)\n",
    "setup_db.commit()\n",
    "cursor.close()"
   ]
  }
 ],
 "metadata": {
  "kernelspec": {
   "display_name": "Python 3 (ipykernel)",
   "language": "python",
   "name": "python3"
  },
  "language_info": {
   "codemirror_mode": {
    "name": "ipython",
    "version": 3
   },
   "file_extension": ".py",
   "mimetype": "text/x-python",
   "name": "python",
   "nbconvert_exporter": "python",
   "pygments_lexer": "ipython3",
   "version": "3.8.10"
  }
 },
 "nbformat": 4,
 "nbformat_minor": 5
}
