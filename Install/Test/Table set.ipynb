{
 "cells": [
  {
   "cell_type": "code",
   "execution_count": null,
   "id": "66d40013-588e-4d55-8508-9bc65f763483",
   "metadata": {},
   "outputs": [],
   "source": [
    "import pymysql"
   ]
  },
  {
   "cell_type": "code",
   "execution_count": null,
   "id": "b6bf4b7d-8568-4ec6-84a5-d7cd22b519ef",
   "metadata": {},
   "outputs": [],
   "source": [
    "setup_table = pymysql.connect(\n",
    "    user='root', \n",
    "    passwd='mireu041214', \n",
    "    host='192.168.0.2',\n",
    "    port=3305,\n",
    "    db='hepatica', \n",
    "    charset='utf8'\n",
    ")"
   ]
  },
  {
   "cell_type": "code",
   "execution_count": null,
   "id": "e63e84a1-a946-49c0-b2af-8ef68037b84d",
   "metadata": {},
   "outputs": [],
   "source": [
    "cursor = setup_table.cursor(pymysql.cursors.DictCursor)"
   ]
  },
  {
   "cell_type": "code",
   "execution_count": null,
   "id": "777a5f98-b08f-4404-95d5-356899c9afa7",
   "metadata": {},
   "outputs": [],
   "source": [
    "sql1 = \"\"\"\n",
    "create table staff_account_DB (\n",
    "  id int unsigned not null auto_increment primary key,\n",
    "  staff_name text not null,\n",
    "  phone text not null,\n",
    "  email text not null,\n",
    "  work_times_start int null,\n",
    "  work_times_end int null,\n",
    "  password varchar(255) null\n",
    ");\n",
    "\"\"\"\n",
    "sql2 = \"\"\"\n",
    "create table staff_work_status_DB (\n",
    "  id int unsigned not null auto_increment primary key,\n",
    "  staff_name text not null,\n",
    "  work_result BOOLEAN null,\n",
    "  attendance_status text null\n",
    ");\n",
    "\"\"\"\n",
    "sql3 = \"\"\"\n",
    "create table product_info_DB (\n",
    "  id int unsigned not null auto_increment primary key,\n",
    "  product_name text null,\n",
    "  info_url text null\n",
    ");\n",
    "\"\"\"\n",
    "sql4 = \"\"\"\n",
    "create table account_book_DB (\n",
    "  id int unsigned not null auto_increment primary key,\n",
    "  product text null,\n",
    "  staff text null,\n",
    "  payment BOOLEAN null\n",
    ");\n",
    "\"\"\""
   ]
  },
  {
   "cell_type": "code",
   "execution_count": null,
   "id": "89b5d71b-8bb9-4019-ab8e-32b369e3ef58",
   "metadata": {},
   "outputs": [],
   "source": [
    "sql_line = [sql1, sql2, sql3, sql4]\n",
    "\n",
    "for i in sql_line:\n",
    "    try:\n",
    "        cursor.execute(i)\n",
    "        setup_table.commit()\n",
    "    except:\n",
    "        pass\n",
    "\n",
    "cursor.close()"
   ]
  }
 ],
 "metadata": {
  "kernelspec": {
   "display_name": "Python 3 (ipykernel)",
   "language": "python",
   "name": "python3"
  },
  "language_info": {
   "codemirror_mode": {
    "name": "ipython",
    "version": 3
   },
   "file_extension": ".py",
   "mimetype": "text/x-python",
   "name": "python",
   "nbconvert_exporter": "python",
   "pygments_lexer": "ipython3",
   "version": "3.8.10"
  }
 },
 "nbformat": 4,
 "nbformat_minor": 5
}
